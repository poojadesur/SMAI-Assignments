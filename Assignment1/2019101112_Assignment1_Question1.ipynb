{
 "cells": [
  {
   "cell_type": "markdown",
   "id": "7b7992a1",
   "metadata": {},
   "source": [
    "# Image Recommendation System via Collaborative Filtering"
   ]
  },
  {
   "cell_type": "markdown",
   "id": "bdbd69cd",
   "metadata": {},
   "source": [
    "# ***Please read the instructions very carefully***"
   ]
  },
  {
   "cell_type": "markdown",
   "id": "17602772",
   "metadata": {},
   "source": [
    "1.   Assignment must be implemented in Python 3 only.\n",
    "2.   You are allowed to use libraries for data preprocessing (numpy, pandas, nltk etc) and for evaluation metrics, data visualization (matplotlib etc.).\n",
    "3.   You will be evaluated not just on the overall performance of the model and also on the experimentation with hyper parameters, data prepossessing techniques etc.\n",
    "4.   ⚠️ The Assignment will be evaluated automatically. Please adhere to taking proper inputs from `config.csv` file. You can change your `config.csv` file to experiment with your code. But at the end, make sure that your outputs are corresponding to input values in `config.csv`\n",
    "5.   Strict plagiarism checking will be done. An F will be awarded for plagiarism."
   ]
  },
  {
   "cell_type": "markdown",
   "id": "3c9abf04",
   "metadata": {},
   "source": [
    "## About the Dataset\n",
    "Behance is a community art website where users showcase and discover creative work. Each user is able to “appreciate” (equivalent to a “like” on Instagram or a “react” on Facebook) an image, indicating that they like the image. It is in the website’s best interests to show users pictures that they would like, to keep them engaged for longer. For this question, given a set of pictures that a user has already appreciated, you have to show them a new picture that they would like based on what similar users appreciated.\n",
    "\n",
    "\n",
    "<br><br>\n",
    "**The dataset has information of 1 million appreciates of 63,497 users on 178,788 items. The file Behance appreciate 1M has a triplet in each line in the form of (user id, item id, unix timestamp).**"
   ]
  },
  {
   "cell_type": "markdown",
   "id": "11f6eaf3",
   "metadata": {},
   "source": [
    "**Task: Take the inputs from the config.csv file and output the recommendations for a particular person**\n",
    "- Collaborative Filtering is a way to predict items to the user based on the the\n",
    "user’s history and the history of similar users. The similarity between users can be quantified by the number of images that both the users appreciated.\n",
    "- The images appreciated by a similar user would be the most suitable images to show a user. Since we can find the similarity between any two users, we would be able to find the “nearest” neighbours of any user, allowing us to use a KNN-based algorithm to recommend new images to a user.\n",
    "- Since people do not like seeing pictures that they have seen already. Make sure that you do not recommend pictures that a user has appreciated already.\n",
    "- Output the final response will be saved in the file named ```config['output_file']```.\n"
   ]
  },
  {
   "cell_type": "markdown",
   "id": "1c9a5e4f",
   "metadata": {},
   "source": [
    "**Output file format:**\n",
    "Populate the output file with images that the user has not seen of the k most\n",
    "similar users, in descending order of their similarity. Each line in the output\n",
    "file should be a duplet in the form of (item id, user id), where the user id is the\n",
    "id of the kth similar user. The order of the images corresponding to the same\n",
    "similar user would not matter. The output file would look something like this:\n",
    "```\n",
    "item_id_1_of_1st_similar_user 1st_most_similar_user_id\n",
    "item_id_2_of_1st_similar_user 1st_most_similar_user_id\n",
    "item_id_3_of_1st_similar_user 1st_most_similar_user_id\n",
    "...\n",
    "item_id_1_of_2nd_similar_user 2nd_most_similar_user_id\n",
    "item_id_2_of_2nd_similar_user 2nd_most_similar_user_id\n",
    "item_id_3_of_2nd_similar_user 2nd_most_similar_user_id\n",
    "...\n",
    "item_id_1_of_kth_similar_user kth_most_similar_user_id\n",
    "item_id_2_of_kth_similar_user kth_most_similar_user_id\n",
    "item_id_3_of_kth_similar_user kth_most_similar_user_id\n",
    "```"
   ]
  },
  {
   "cell_type": "markdown",
   "id": "c6d0c592",
   "metadata": {},
   "source": [
    "The dataset was extracted using Behance’s API as a part of the paper\n",
    "“Vista: A visually, socially, and temporally-aware model for artistic\n",
    "recommendation, RecSys, 2016”. Check out this [Google Drive folder](https://drive.google.com/drive/folders/0B9Ck8jw-TZUEc3NlMjVXdDlPU1k?resourcekey=0-6_8ykn0o4fLc5fuTEm91xA) for\n",
    "more information about the dataset.\n",
    "\n",
    "\n",
    "Have fun! The users are waiting to see new pictures!"
   ]
  },
  {
   "cell_type": "markdown",
   "id": "87b8072a",
   "metadata": {},
   "source": [
    "### Import necessary libraries"
   ]
  },
  {
   "cell_type": "code",
   "execution_count": 1,
   "id": "f153853d",
   "metadata": {},
   "outputs": [],
   "source": [
    "import numpy as np\n",
    "import pandas as pd"
   ]
  },
  {
   "cell_type": "code",
   "execution_count": 2,
   "id": "41ac6337",
   "metadata": {},
   "outputs": [],
   "source": [
    "# Config Generation Sample Code.\n",
    "# ⚠️ Only for experimentation on your side.\n",
    "# ⚠️ Should be commented during submission.\n",
    "\n",
    "# df = pd.DataFrame(data=[{'id':10356,\n",
    "#                   'k':5,\n",
    "#                   'dataset_file':'./Behance_subsampled.txt',\n",
    "#                   'output_file':'./output.txt'}])\n",
    "# df.to_csv('config.csv')"
   ]
  },
  {
   "cell_type": "code",
   "execution_count": 3,
   "id": "7af3e999",
   "metadata": {},
   "outputs": [],
   "source": [
    "config = pd.read_csv('config.csv').iloc[0]"
   ]
  },
  {
   "cell_type": "code",
   "execution_count": 4,
   "id": "829d0147",
   "metadata": {},
   "outputs": [
    {
     "output_type": "execute_result",
     "data": {
      "text/plain": [
       "Unnamed: 0                             0\n",
       "id                                 10356\n",
       "k                                      5\n",
       "dataset_file    ./Behance_subsampled.txt\n",
       "output_file                 ./output.txt\n",
       "Name: 0, dtype: object"
      ]
     },
     "metadata": {},
     "execution_count": 4
    }
   ],
   "source": [
    "config"
   ]
  },
  {
   "cell_type": "code",
   "execution_count": 5,
   "id": "f4d09c27",
   "metadata": {},
   "outputs": [],
   "source": [
    "user = config['id']\n",
    "k_value = config['k']"
   ]
  },
  {
   "cell_type": "markdown",
   "id": "10935090",
   "metadata": {},
   "source": [
    "### Read the Data"
   ]
  },
  {
   "cell_type": "code",
   "execution_count": 6,
   "id": "5bbba85a",
   "metadata": {},
   "outputs": [],
   "source": [
    "with open(config['dataset_file'], 'r') as inFile:\n",
    "    appreciate_data = inFile.readlines()"
   ]
  },
  {
   "cell_type": "code",
   "execution_count": 7,
   "id": "c0266e01",
   "metadata": {},
   "outputs": [],
   "source": [
    "# your code here"
   ]
  },
  {
   "cell_type": "markdown",
   "id": "99512e25",
   "metadata": {},
   "source": [
    "### Initialize a dictionary to store the item_ids that a user likes\n",
    "\n",
    "### Go through each line of the input file and construct the user_likes dictionary"
   ]
  },
  {
   "cell_type": "code",
   "execution_count": 7,
   "id": "1d3d9be5",
   "metadata": {},
   "outputs": [],
   "source": [
    "user_likes = dict()\n",
    "items = set()\n",
    "users = set()"
   ]
  },
  {
   "cell_type": "code",
   "execution_count": 8,
   "id": "80a539f1",
   "metadata": {},
   "outputs": [],
   "source": [
    "for line in appreciate_data:\n",
    "    line = line.strip()\n",
    "    \n",
    "    user_id = int(line.split()[0])\n",
    "    item_id = int(line.split()[1])\n",
    "\n",
    "    items.add(item_id)\n",
    "    users.add(user_id)\n",
    "\n",
    "    if user_id not in user_likes:\n",
    "        user_likes[user_id] = list()\n",
    "    \n",
    "    user_likes[user_id].append(item_id)"
   ]
  },
  {
   "cell_type": "code",
   "execution_count": 9,
   "metadata": {},
   "outputs": [
    {
     "output_type": "execute_result",
     "data": {
      "text/plain": [
       "10356"
      ]
     },
     "metadata": {},
     "execution_count": 9
    }
   ],
   "source": [
    "items = sorted(items)\n",
    "items[0]\n",
    "users = sorted(users)\n",
    "users[0]\n",
    "# users"
   ]
  },
  {
   "cell_type": "code",
   "execution_count": 10,
   "metadata": {},
   "outputs": [],
   "source": [
    "user_likes_matrix = [ [0 for i in range(len(items))] for i in range(len(list(user_likes.keys()))) ]"
   ]
  },
  {
   "cell_type": "code",
   "execution_count": 11,
   "metadata": {},
   "outputs": [],
   "source": [
    "for user_idx in range(len(user_likes.keys())):\n",
    "    for item_idx in range(len(user_likes_matrix[user_idx])):\n",
    "        if items[item_idx] in user_likes[users[user_idx]]:\n",
    "            user_likes_matrix[user_idx][item_idx] = 1"
   ]
  },
  {
   "cell_type": "code",
   "execution_count": 12,
   "metadata": {},
   "outputs": [],
   "source": [
    "# getting latent features\n",
    "import numpy as np\n",
    "from sklearn.decomposition import TruncatedSVD\n",
    "\n",
    "def get_latent_features(user_likes_matrix):\n",
    "    epsilon = 1e-9\n",
    "    n_latent_factors = 1000\n",
    "    user_svd = TruncatedSVD(n_components = n_latent_factors)\n",
    "    user_features = user_svd.fit_transform(user_likes_matrix) + epsilon\n",
    "\n",
    "    return user_features"
   ]
  },
  {
   "cell_type": "code",
   "execution_count": 13,
   "metadata": {},
   "outputs": [
    {
     "output_type": "execute_result",
     "data": {
      "text/plain": [
       "numpy.ndarray"
      ]
     },
     "metadata": {},
     "execution_count": 13
    }
   ],
   "source": [
    "user_features = get_latent_features(user_likes_matrix).astype(\"float32\")\n",
    "type(user_features)"
   ]
  },
  {
   "cell_type": "code",
   "execution_count": 20,
   "metadata": {},
   "outputs": [
    {
     "output_type": "execute_result",
     "data": {
      "text/plain": [
       "1000"
      ]
     },
     "metadata": {},
     "execution_count": 20
    }
   ],
   "source": [
    "len(user_features[0])"
   ]
  },
  {
   "cell_type": "markdown",
   "id": "9e199965",
   "metadata": {},
   "source": [
    "### Use KNN after Collaborative Filtering to find nearest neighbors"
   ]
  },
  {
   "cell_type": "code",
   "execution_count": 14,
   "metadata": {},
   "outputs": [],
   "source": [
    "from sklearn.metrics.pairwise import cosine_similarity, euclidean_distances\n",
    "\n",
    "def neighbors(user,user_features,k_value):\n",
    "    \"\"\" returns an iterable object (like list or generator) of top k similar users \"\"\"\n",
    "    # run through every user and calculate number of same posts liked\n",
    "    # keep k (similarity, user_id) as a list and sort each iteration if list > k\n",
    "    # each iteration compare with smallest similarity score in the list\n",
    "    top_k = []\n",
    "    \n",
    "    given_user_idx = -1\n",
    "    for user_idx in range(len(user_features)):\n",
    "        if users[user_idx] == user:\n",
    "            given_user_idx = user_idx\n",
    "            break\n",
    "    given_user_feature = user_features[given_user_idx]\n",
    "\n",
    "    for user_idx,user_feature in enumerate(user_features):\n",
    "        if users[user_idx] == user: continue\n",
    "        \n",
    "        vec1 = np.array([user_features[user_idx]])\n",
    "        vec2 = np.array([given_user_feature])\n",
    "\n",
    "        similarity = euclidean_distances(vec1,vec2)\n",
    "\n",
    "        if len(top_k) < k_value: top_k.append((similarity,users[user_idx]))\n",
    "        else:\n",
    "            if similarity < top_k[k_value-1][0]:\n",
    "                top_k[k_value-1] = (similarity,users[user_idx])\n",
    "                top_k = sorted(top_k)\n",
    "    \n",
    "    top_k_users = [t[1] for t in top_k]\n",
    "\n",
    "    return top_k_users"
   ]
  },
  {
   "cell_type": "code",
   "execution_count": 16,
   "id": "2117df52",
   "metadata": {},
   "outputs": [],
   "source": [
    "# this function is only called to check if top k returned by using matrix factorization is same as while using jaccard - USED ONLY TO PERSONALLY CHECK IF ANSWERS MAKE SENSE NOT USED FOR ASSIGNMENT QUESTION PURPOSES \n",
    "def jaccard_neighbors(user,k_value):\n",
    "    \"\"\" returns an iterable object (like list or generator) of top k similar users \"\"\"\n",
    "    # run through every user and calculate number of same posts liked\n",
    "    # keep k (similarity, user_id) as a list and sort each iteration if list > k\n",
    "    # each iteration compare with smallest similarity score in the list\n",
    "    top_k = []\n",
    "    for user_id in list(user_likes.keys()):\n",
    "        if user_id == user: continue\n",
    "\n",
    "        similarity = len(list(set(user_likes[user]).intersection(user_likes[user_id]))) / len(list(set(user_likes[user]).union(user_likes[user_id])))\n",
    "\n",
    "        if len(top_k) < k_value: top_k.append((similarity,user_id))\n",
    "        else:\n",
    "            if similarity > top_k[k_value-1][0]:\n",
    "                top_k[k_value-1] = (similarity,user_id)\n",
    "                top_k = sorted(top_k,reverse=True)\n",
    "    \n",
    "    top_k_users = [t[1] for t in top_k]\n",
    "\n",
    "    return top_k_users"
   ]
  },
  {
   "cell_type": "markdown",
   "id": "892c395b",
   "metadata": {},
   "source": [
    "### Open the output file to write all the lines to the file"
   ]
  },
  {
   "cell_type": "code",
   "execution_count": 17,
   "id": "428708d5",
   "metadata": {},
   "outputs": [
    {
     "output_type": "stream",
     "name": "stdout",
     "text": [
      "[15341, 18197, 19830, 28270, 32901]\n[104300, 206299, 333388, 366769, 366885]\n"
     ]
    }
   ],
   "source": [
    "outFile = open(config['output_file'], 'w')\n",
    "\n",
    "for n_user in neighbors(user,user_features,k_value):\n",
    "    user_id = n_user\n",
    "    for item_id in user_likes[user_id]:\n",
    "        if item_id not in user_likes[user]:\n",
    "            outFile.write(str(item_id) + ' ' + str(user_id) + '\\n')\n",
    "\n",
    "outFile.close()"
   ]
  }
 ],
 "metadata": {
  "kernelspec": {
   "display_name": "Python 3",
   "language": "python",
   "name": "python3"
  },
  "language_info": {
   "codemirror_mode": {
    "name": "ipython",
    "version": 3
   },
   "file_extension": ".py",
   "mimetype": "text/x-python",
   "name": "python",
   "nbconvert_exporter": "python",
   "pygments_lexer": "ipython3",
   "version": "3.8.1-final"
  }
 },
 "nbformat": 4,
 "nbformat_minor": 5
}