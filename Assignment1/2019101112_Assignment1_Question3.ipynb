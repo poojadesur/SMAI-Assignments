{
  "cells": [
    {
      "cell_type": "markdown",
      "metadata": {
        "id": "02c54141"
      },
      "source": [
        "## Spam Email Classifier with KNN using TF-IDF scores"
      ],
      "id": "02c54141"
    },
    {
      "cell_type": "markdown",
      "metadata": {
        "id": "1c17102e"
      },
      "source": [
        "1.   Assignment must be implemented in Python 3 only.\n",
        "2.   You are allowed to use libraries for data preprocessing (numpy, pandas, nltk etc) and for evaluation metrics, data visualization (matplotlib etc.).\n",
        "3.   You will be evaluated not just on the overall performance of the model and also on the experimentation with hyper parameters, data prepossessing techniques etc.\n",
        "4.   The report file must be a well documented jupyter notebook, explaining the experiments you have performed, evaluation metrics and corresponding code. The code must run and be able to reproduce the accuracies, figures/graphs etc.\n",
        "5.   For all the questions, you must create a train-validation data split and test the hyperparameter tuning on the validation set. Your jupyter notebook must reflect the same.\n",
        "6.   Strict plagiarism checking will be done. An F will be awarded for plagiarism."
      ],
      "id": "1c17102e"
    },
    {
      "cell_type": "markdown",
      "metadata": {
        "id": "0d34a310"
      },
      "source": [
        "**Task: Given an email, classify it as spam or ham**\n",
        "\n",
        "Given input text file (\"emails.txt\") containing 5572 email messages, with each row having its corresponding label (spam/ham) attached to it.\n",
        "\n",
        "This task also requires basic pre-processing of text (like removing stopwords, stemming/lemmatizing, replacing email_address with 'email-tag', etc..).\n",
        "\n",
        "You are required to find the tf-idf scores for the given data and use them to perform KNN using Cosine Similarity."
      ],
      "id": "0d34a310"
    },
    {
      "cell_type": "markdown",
      "metadata": {
        "id": "b0c87696"
      },
      "source": [
        "### Import necessary libraries"
      ],
      "id": "b0c87696"
    },
    {
      "cell_type": "code",
      "execution_count": null,
      "metadata": {
        "colab": {
          "base_uri": "https://localhost:8080/"
        },
        "id": "3d5a1fe2",
        "outputId": "673ac816-cb93-483b-f94c-edd107603a35"
      },
      "outputs": [
        {
          "name": "stdout",
          "output_type": "stream",
          "text": [
            "[nltk_data] Downloading package punkt to /root/nltk_data...\n",
            "[nltk_data]   Package punkt is already up-to-date!\n",
            "[nltk_data] Downloading package stopwords to /root/nltk_data...\n",
            "[nltk_data]   Package stopwords is already up-to-date!\n"
          ]
        },
        {
          "data": {
            "text/plain": [
              "True"
            ]
          },
          "execution_count": 13,
          "metadata": {},
          "output_type": "execute_result"
        }
      ],
      "source": [
        "import numpy as np\n",
        "# import these modules\n",
        "from nltk.stem import PorterStemmer\n",
        "from nltk.tokenize import word_tokenize\n",
        "import nltk\n",
        "from nltk.corpus import stopwords\n",
        "import re\n",
        "import nltk\n",
        "nltk.download('punkt')\n",
        "nltk.download('stopwords')"
      ],
      "id": "3d5a1fe2"
    },
    {
      "cell_type": "markdown",
      "metadata": {
        "id": "7aef4dff"
      },
      "source": [
        "### Load dataset"
      ],
      "id": "7aef4dff"
    },
    {
      "cell_type": "code",
      "execution_count": null,
      "metadata": {
        "colab": {
          "base_uri": "https://localhost:8080/"
        },
        "id": "f178f892",
        "outputId": "32aec735-d421-4959-d5a2-adfce4bd613c"
      },
      "outputs": [
        {
          "name": "stdout",
          "output_type": "stream",
          "text": [
            "5574\n"
          ]
        }
      ],
      "source": [
        "emails = []\n",
        "labels = []\n",
        "f = open(\"./emails.txt\", 'r')\n",
        "for line in f.readlines():\n",
        "    line = line.strip()\n",
        "    email = \" \".join(line.split()[1:])\n",
        "    # print(email)\n",
        "    emails.append(email)\n",
        "    label = line.split()[0]\n",
        "    if label == 'ham':\n",
        "        labels.append(0)\n",
        "    else:\n",
        "        labels.append(1)\n",
        "print(len(emails))\n",
        "original_emails = []\n",
        "original_emails[:] = emails"
      ],
      "id": "f178f892"
    },
    {
      "cell_type": "markdown",
      "metadata": {
        "id": "cd1ef5ba"
      },
      "source": [
        "### Preprocess data"
      ],
      "id": "cd1ef5ba"
    },
    {
      "cell_type": "code",
      "execution_count": null,
      "metadata": {
        "id": "fd1733d7"
      },
      "outputs": [],
      "source": [
        "# stem, lemmatize, replace email, url of each email\n",
        "\n",
        "def preprocess(emails):\n",
        "\n",
        "    stemmed_emails = []\n",
        "\n",
        "    for email in emails:\n",
        "        \n",
        "        email = email.strip()\n",
        "        \n",
        "        email = ' '.join(re.split(\"[^A-Za-z0-9]\" , email))  \n",
        "\n",
        "        email = re.sub(r'[\\s]+' , ' ', email)\n",
        "        email = email.strip()\n",
        "\n",
        "        # replace email with email-tag\n",
        "        email = re.sub('\\S+@\\S+' , 'EMAILTOKEN' , email)\n",
        "\n",
        "        # replace url with url-tag\n",
        "        email = re.sub(r'https?:\\/\\/\\S+' , 'url-tag' , email)\n",
        "\n",
        "        # remove stopwords\n",
        "        word_tokens = word_tokenize(email)\n",
        "        stop_words = stopwords.words(\"english\")\n",
        "        email = [w.lower() for w in word_tokens if not w.lower() in stop_words]\n",
        "        # remove punctuation\n",
        "\n",
        "        ps = PorterStemmer()\n",
        "        stemmed_email = []\n",
        "        for w in email:\n",
        "            stemmed_email.append(ps.stem(w))\n",
        "\n",
        "        stemmed_emails.append(stemmed_email)\n",
        "        \n",
        "    return stemmed_emails\n"
      ],
      "id": "fd1733d7"
    },
    {
      "cell_type": "code",
      "execution_count": null,
      "metadata": {
        "id": "DKnS6ke7sOVv"
      },
      "outputs": [],
      "source": [
        "emails = preprocess(emails)"
      ],
      "id": "DKnS6ke7sOVv"
    },
    {
      "cell_type": "markdown",
      "metadata": {
        "id": "nEuJkU6TsOVw"
      },
      "source": [
        "### Computing TF-IDF Scores"
      ],
      "id": "nEuJkU6TsOVw"
    },
    {
      "cell_type": "code",
      "execution_count": null,
      "metadata": {
        "id": "XoOOJhXwsOVw"
      },
      "outputs": [],
      "source": [
        "terms = {}\n",
        "\n",
        "for email_idx,email in enumerate(emails):\n",
        "    for term in email:\n",
        "        try:\n",
        "         terms[term][email_idx] += 1\n",
        "        except:\n",
        "            try:\n",
        "                terms[term][email_idx] = 1\n",
        "            except:\n",
        "                terms[term] = {}\n",
        "                terms[term][email_idx] = 1\n",
        "# term_dict: {email id: count, email id: count}\n",
        "# for each email run through all the terms - log(terms[term][docid]) * log(N/len(term_dict) + 1)"
      ],
      "id": "XoOOJhXwsOVw"
    },
    {
      "cell_type": "code",
      "execution_count": null,
      "metadata": {
        "id": "vKS79WdksOVw"
      },
      "outputs": [],
      "source": [
        "terms_index = {}\n",
        "for idx,term in enumerate(list(terms.keys())):\n",
        "    terms_index[term] = idx"
      ],
      "id": "vKS79WdksOVw"
    },
    {
      "cell_type": "code",
      "execution_count": null,
      "metadata": {
        "id": "lQ_QoES3sOVx"
      },
      "outputs": [],
      "source": [
        "# run this after you compute tfidf dictionary - changes variable email\n",
        "emails_docid = []\n",
        "for email_idx,email in enumerate(emails):\n",
        "    emails_docid.append((email_idx,email))\n",
        "emails[:] = emails_docid"
      ],
      "id": "lQ_QoES3sOVx"
    },
    {
      "cell_type": "code",
      "execution_count": null,
      "metadata": {
        "id": "vztoahZysOVx",
        "outputId": "d0a72a0f-a56d-4825-8958-f276f6f3c3bd"
      },
      "outputs": [
        {
          "data": {
            "text/plain": [
              "{1778: 1, 4725: 1, 4735: 1, 4841: 1}"
            ]
          },
          "execution_count": 9,
          "metadata": {},
          "output_type": "execute_result"
        }
      ],
      "source": [
        "terms['0']"
      ],
      "id": "vztoahZysOVx"
    },
    {
      "cell_type": "code",
      "execution_count": null,
      "metadata": {
        "id": "iZTyp7WbsOVy"
      },
      "outputs": [],
      "source": [
        "# initialize to 0\n",
        "# tf_idf = []\n",
        "# tf_idf_idx = []\n",
        "\n",
        "# tf_idf = [[0.0]*len(list(terms.keys())) for i in range(len(emails))]\n",
        "tf_idf = np.zeros(shape = (len(emails), len(terms)))\n",
        "\n",
        "for email_idx,email in enumerate(emails):\n",
        "    print(email_idx)\n",
        "    for word in email[1]:\n",
        "        # try:\n",
        "        tf_idf[email_idx][terms_index[str(word)]] = np.log (terms[str(word)][email_idx] + 1) *  np.log( len(emails)/ (len(terms[str(word)]))  )\n",
        "        # except: pass\n",
        "    # tf_idf_idx.append((email_idx,tf_idf[email_idx]))"
      ],
      "id": "iZTyp7WbsOVy"
    },
    {
      "cell_type": "markdown",
      "metadata": {
        "id": "f76767a7"
      },
      "source": [
        "### Split data"
      ],
      "id": "f76767a7"
    },
    {
      "cell_type": "code",
      "execution_count": null,
      "metadata": {
        "id": "f1z3tgkysOV0"
      },
      "outputs": [],
      "source": [
        "from sklearn.model_selection import train_test_split\n",
        "\n",
        "X_train, X_temp, y_train, y_temp = train_test_split(tf_idf, labels, test_size=0.4, random_state=42)\n",
        "X_val , X_test , y_val , y_test = train_test_split(X_temp , y_temp , test_size=0.5 , random_state=42)"
      ],
      "id": "f1z3tgkysOV0"
    },
    {
      "cell_type": "code",
      "execution_count": null,
      "metadata": {
        "colab": {
          "base_uri": "https://localhost:8080/"
        },
        "id": "40bGcHG3sOV0",
        "outputId": "b8791719-5f7b-40ea-f905-242ab9c05b70"
      },
      "outputs": [
        {
          "data": {
            "text/plain": [
              "3344"
            ]
          },
          "execution_count": 84,
          "metadata": {},
          "output_type": "execute_result"
        }
      ],
      "source": [
        "len(X_train)"
      ],
      "id": "40bGcHG3sOV0"
    },
    {
      "cell_type": "code",
      "execution_count": null,
      "metadata": {
        "colab": {
          "base_uri": "https://localhost:8080/"
        },
        "id": "vs7ipQp8xCt1",
        "outputId": "1a0aad8b-b080-4bc7-ae9a-5dce23b3cde6"
      },
      "outputs": [
        {
          "data": {
            "text/plain": [
              "1115"
            ]
          },
          "execution_count": 46,
          "metadata": {},
          "output_type": "execute_result"
        }
      ],
      "source": [
        "len(X_train)\n",
        "len(X_val)"
      ],
      "id": "vs7ipQp8xCt1"
    },
    {
      "cell_type": "markdown",
      "metadata": {
        "id": "ee6eb76b"
      },
      "source": [
        "### Train your KNN model (reuse previously iplemented model built from scratch) and test on your data"
      ],
      "id": "ee6eb76b"
    },
    {
      "cell_type": "code",
      "execution_count": 111,
      "metadata": {
        "id": "g184BrPssOV0"
      },
      "outputs": [],
      "source": [
        "from sklearn.metrics.pairwise import cosine_similarity, euclidean_distances, manhattan_distances\n",
        "\n",
        "def neighbours(test_email, x_train, y_train, k_value,distance='COSINE'):\n",
        "\n",
        "    distances = []\n",
        "    for train_idx,train_email in enumerate(x_train):\n",
        "\n",
        "        vec1 = test_email.reshape(1,-1)\n",
        "        vec2 = train_email.reshape(1,-1)\n",
        "\n",
        "        if distance == 'COSINE':\n",
        "            distances.append( (train_idx,cosine_similarity(vec1, vec2)))\n",
        "\n",
        "        elif distance == 'EUCLIDEAN':\n",
        "            distances.append( (train_idx,euclidean_distances(vec1,vec2)))\n",
        "\n",
        "        elif distance == 'MANHATTAN':\n",
        "            distances.append( (train_idx,manhattan_distances(vec1,vec2)))\n",
        "    \n",
        "    if distance == 'COSINE':\n",
        "        distances.sort(key = lambda x: x[1],reverse=True)\n",
        "    else:\n",
        "        distances.sort(key = lambda x: x[1])\n",
        "\n",
        "    neighbours = [(y_train[t[0]]) for t in distances]\n",
        "    # print(\"cos sim: \",cosine_sim[:k_value])\n",
        "    # print(\"in neighbours: \", neighbours)\n",
        "    return neighbours"
      ],
      "id": "g184BrPssOV0"
    },
    {
      "cell_type": "code",
      "execution_count": null,
      "metadata": {
        "colab": {
          "base_uri": "https://localhost:8080/"
        },
        "id": "v4JBw0p6Uqig",
        "outputId": "6f0eab64-4202-4f35-f8c2-e27bae419471"
      },
      "outputs": [
        {
          "data": {
            "text/plain": [
              "[0, 0, 0, 0, 0]"
            ]
          },
          "execution_count": 38,
          "metadata": {},
          "output_type": "execute_result"
        }
      ],
      "source": [
        "neighbours(X_test[0], X_train, y_train, 5)"
      ],
      "id": "v4JBw0p6Uqig"
    },
    {
      "cell_type": "code",
      "execution_count": null,
      "metadata": {
        "id": "SIzyduhjsOV1"
      },
      "outputs": [],
      "source": [
        "from sklearn.metrics import accuracy_score, f1_score, confusion_matrix, precision_score, recall_score\n",
        "import matplotlib.pyplot as plt\n",
        "import seaborn as sns\n",
        "\n",
        "def evaluate_model(test_outputs,labels,k, similarity_measure):\n",
        "\n",
        "    if similarity_measure != \"SKLEARN_CLASSIFIER\":\n",
        "      true_labels = [labels[i[0]] for i in test_outputs]\n",
        "      predictions = [i[1] for i in test_outputs]\n",
        "    else:\n",
        "      true_labels = test_outputs\n",
        "      predictions = labels\n",
        "\n",
        "    print(f\"For k={k} and similarity measure {similarity_measure}\")\n",
        "    print(\"Accuracy score: \",accuracy_score(true_labels, predictions))\n",
        "\n",
        "    print(\"F1 score: \", f1_score(true_labels,predictions))\n",
        "    print(\"Precision score: \", precision_score(true_labels,predictions))\n",
        "    print(\"Recall score: \", recall_score(true_labels,predictions))\n",
        "\n",
        "    cm = confusion_matrix(true_labels, predictions)\n",
        "    plt.figure(figsize=(9,9))\n",
        "    sns.heatmap(cm, annot=True, fmt=\".3f\", linewidths=.5, square = True, cmap = 'Blues_r');\n",
        "    plt.ylabel('Actual label');\n",
        "    plt.xlabel('Predicted label');\n",
        "    all_sample_title = 'Accuracy Score: {0}'.format(accuracy_score(true_labels,predictions))\n",
        "    plt.title(all_sample_title, size = 15);\n",
        "        \n",
        "    # return precision, recall, f1, accuracy"
      ],
      "id": "SIzyduhjsOV1"
    },
    {
      "cell_type": "code",
      "execution_count": 89,
      "metadata": {
        "id": "qcgBFATdsOV1"
      },
      "outputs": [],
      "source": [
        "import tqdm.notebook as tq\n",
        "def train_model(train, y_train, test, k_value,distance=\"COSINE\", check_hyper_parameters=False):\n",
        "\n",
        "    test_outputs = []\n",
        "    all_neighbours = []\n",
        "\n",
        "    for test_idx,test_email in tq.tqdm(enumerate(test),total=len(test)):\n",
        "        \n",
        "        neighbour_labels = neighbours(test_email,train,y_train, k_value, distance)\n",
        "        \n",
        "        if check_hyper_parameters is True: \n",
        "          all_neighbours.append(neighbour_labels)\n",
        "\n",
        "        neighbour_labels = neighbour_labels[:k_value]\n",
        "\n",
        "        # getting majority label of top k neighbours\n",
        "        if neighbour_labels.count(1) >= neighbour_labels.count(0):\n",
        "            test_outputs.append((test_idx,1))\n",
        "            # print(\"spam\")\n",
        "        else:\n",
        "            test_outputs.append((test_idx,0))\n",
        "            # print(\"ham\")\n",
        "\n",
        "        # print(\"\\ntest email: \", original_emails[test_email[0]])\n",
        "\n",
        "        # for t in top_k:\n",
        "        #     print(original_emails[t[0]])\n",
        "        \n",
        "    # evaluate_model(test_outputs,labels)\n",
        "\n",
        "    if check_hyper_parameters is True: return all_neighbours\n",
        "\n",
        "    return test_outputs"
      ],
      "id": "qcgBFATdsOV1"
    },
    {
      "cell_type": "markdown",
      "metadata": {
        "id": "22baf6b2"
      },
      "source": [
        "# ***1. Experiment with different distance measures [Euclidean distance, Manhattan distance] and compare with the Cosine Similarity distance results.***"
      ],
      "id": "22baf6b2"
    },
    {
      "cell_type": "markdown",
      "metadata": {
        "id": "GqX8Dbvmc9rb"
      },
      "source": [
        "## K=5,Cosine"
      ],
      "id": "GqX8Dbvmc9rb"
    },
    {
      "cell_type": "code",
      "execution_count": null,
      "metadata": {
        "id": "il9isa7jdYWm"
      },
      "outputs": [],
      "source": [
        "test_outputs = train_model(X_train, y_train, X_val, 5)"
      ],
      "id": "il9isa7jdYWm"
    },
    {
      "cell_type": "code",
      "execution_count": null,
      "metadata": {
        "colab": {
          "base_uri": "https://localhost:8080/",
          "height": 605
        },
        "id": "hWXdyXTBsOV2",
        "outputId": "6d59e78d-de46-4c76-99c0-fb333be97812"
      },
      "outputs": [
        {
          "name": "stdout",
          "output_type": "stream",
          "text": [
            "For k=5 and similarity measure COSINE\n",
            "Accuracy score:  0.9668161434977578\n",
            "F1 score:  0.8560311284046692\n",
            "Precision score:  0.9821428571428571\n",
            "Recall score:  0.7586206896551724\n"
          ]
        },
        {
          "data": {
            "image/png": "[encoded data removed]",
            "text/plain": [
              "<Figure size 648x648 with 2 Axes>"
            ]
          },
          "metadata": {},
          "output_type": "display_data"
        }
      ],
      "source": [
        "evaluate_model(test_outputs,y_val,5,\"COSINE\")"
      ],
      "id": "hWXdyXTBsOV2"
    },
    {
      "cell_type": "markdown",
      "metadata": {
        "id": "-mKX5sgjdo0h"
      },
      "source": [
        "## K=5, Euclidean"
      ],
      "id": "-mKX5sgjdo0h"
    },
    {
      "cell_type": "code",
      "execution_count": null,
      "metadata": {
        "colab": {
          "base_uri": "https://localhost:8080/",
          "height": 49,
          "referenced_widgets": [
            "6e9ddf5c230e440ab7da88c8c2649e95",
            "c651609d1e334facbae2d070616a4d0d",
            "d005f8c09dd948d38174fbc014da0285",
            "59c361fc37d243a6b3045741233f1071",
            "0da0ac291a554cf8bcb4af8269c1d74a",
            "697b68d16c1345539c8c845231c80d56",
            "7dbebd387dc6432ea4c5e352b0c645b2",
            "d53eafba0a6c47a18160c8b3c02b32f7",
            "afed217cd95c4d9ea24078d3576accd5",
            "516a5176ae34416d8463fba0a71c51d7",
            "d9a4de55087345f09af64caf5f1b31c1"
          ]
        },
        "id": "-TuF9822cbfU",
        "outputId": "975c9ac7-aed3-4fdb-ff7c-6c7fb686ba60"
      },
      "outputs": [
        {
          "data": {
            "application/vnd.jupyter.widget-view+json": {
              "model_id": "6e9ddf5c230e440ab7da88c8c2649e95",
              "version_major": 2,
              "version_minor": 0
            },
            "text/plain": [
              "  0%|          | 0/1115 [00:00<?, ?it/s]"
            ]
          },
          "metadata": {},
          "output_type": "display_data"
        }
      ],
      "source": [
        "test_euc_outputs = train_model(X_train, y_train, X_val, 5, \"EUCLIDEAN\")"
      ],
      "id": "-TuF9822cbfU"
    },
    {
      "cell_type": "code",
      "execution_count": null,
      "metadata": {
        "colab": {
          "base_uri": "https://localhost:8080/",
          "height": 611
        },
        "id": "ymLh0eWTdxes",
        "outputId": "ac998900-5540-4a3d-b5ce-0fd00cf57c90"
      },
      "outputs": [
        {
          "name": "stdout",
          "output_type": "stream",
          "text": [
            "For k=5 and similarity measure EUCLIDEAN\n",
            "Accuracy score:  0.8869955156950673\n",
            "F1 score:  0.23170731707317074\n",
            "Precision score:  1.0\n",
            "Recall score:  0.1310344827586207\n"
          ]
        },
        {
          "data": {
            "image/png": "[encoded data removed]",
            "text/plain": [
              "<Figure size 648x648 with 2 Axes>"
            ]
          },
          "metadata": {},
          "output_type": "display_data"
        }
      ],
      "source": [
        "evaluate_model(test_euc_outputs,y_val,5,\"EUCLIDEAN\")"
      ],
      "id": "ymLh0eWTdxes"
    },
    {
      "cell_type": "markdown",
      "metadata": {
        "id": "WCzV9-U8d3PK"
      },
      "source": [
        "## K=5, Manhattan"
      ],
      "id": "WCzV9-U8d3PK"
    },
    {
      "cell_type": "code",
      "execution_count": null,
      "metadata": {
        "colab": {
          "base_uri": "https://localhost:8080/",
          "height": 49,
          "referenced_widgets": [
            "10ed0cb572734b9c8c56f80831e244ba",
            "d225b2ee97c6486c80b3ff899037cc8f",
            "b8d6a5d1a0ce4e278458db355ff2fc48",
            "52ce87ab94ca4de9973e4b61b9f9c1d3",
            "6483c873a9aa40c9a35e52cb4e45bb02",
            "8f2f39b7506645d8b0318b7ba31677f4",
            "d1f81afd023649dc9d58e0da31bbb135",
            "36bad8ab1314499ba5727b765958d5b6",
            "cd7b1817a17749be8f31419f9bbab991",
            "1bfb3d816053449d9e5ce31274e2c4a5",
            "51be29d342934c0faad855d36783e16f"
          ]
        },
        "id": "fMU_ZX-ld6PW",
        "outputId": "5a259e23-f204-4edd-b05f-3cda50cbfef7"
      },
      "outputs": [
        {
          "data": {
            "application/vnd.jupyter.widget-view+json": {
              "model_id": "10ed0cb572734b9c8c56f80831e244ba",
              "version_major": 2,
              "version_minor": 0
            },
            "text/plain": [
              "  0%|          | 0/1115 [00:00<?, ?it/s]"
            ]
          },
          "metadata": {},
          "output_type": "display_data"
        }
      ],
      "source": [
        "test_man_outputs = train_model(X_train, y_train, X_val, 5, \"MANHATTAN\")"
      ],
      "id": "fMU_ZX-ld6PW"
    },
    {
      "cell_type": "code",
      "execution_count": null,
      "metadata": {
        "colab": {
          "base_uri": "https://localhost:8080/",
          "height": 611
        },
        "id": "1jhV1R7teCXV",
        "outputId": "6985faa8-ee0d-4eab-87b0-5fd10c327617"
      },
      "outputs": [
        {
          "name": "stdout",
          "output_type": "stream",
          "text": [
            "For k=5 and similarity measure MANHATTAN\n",
            "Accuracy score:  0.8914798206278027\n",
            "F1 score:  0.28402366863905326\n",
            "Precision score:  1.0\n",
            "Recall score:  0.16551724137931034\n"
          ]
        },
        {
          "data": {
            "image/png": "[encoded data removed]",
            "text/plain": [
              "<Figure size 648x648 with 2 Axes>"
            ]
          },
          "metadata": {},
          "output_type": "display_data"
        }
      ],
      "source": [
        "evaluate_model(test_man_outputs,y_val,5,\"MANHATTAN\")"
      ],
      "id": "1jhV1R7teCXV"
    },
    {
      "cell_type": "markdown",
      "metadata": {
        "id": "bcf6f3b1"
      },
      "source": [
        "# ***2. Explain which distance measure works best and why? Explore the distance measures and weigh their pro and cons in different application settings.***"
      ],
      "id": "bcf6f3b1"
    },
    {
      "cell_type": "markdown",
      "metadata": {
        "id": "bae57a01"
      },
      "source": [
        "Cosine similarity works the best with accuracy of 96%, recall of 75%, and precision of 98%. This means it predicts the spam emails 75% of the time and when it does predict an email as spam, it's correct 98% of the time. It works better than euclidean and manhattan because even if two similar documents are far apart in terms of distance (euclidean or manhattan) when one word appears much more in one document in one than the other - they might still have a smaller angle  between them representing higher the similarity. \n",
        "\n",
        "Cosine similarity is used to match similar documents and is advantageous over Euclidean for this application. As the size of each document increases, counting the max number of common words between documents doesn't work well since the number of common words increases even if the documents are about different topics. Its used as a distance metric mostly when the magnitude of the vector doesn't matter but its orientation. Cons is that magnitutde of the vectors is not taken into consideration at all. Cosine similarity also is less optimal in spaces of lower dimension and works best when there are many sparsely populated features.\n",
        "\n",
        "Manhattan distance is used over Euclidean distance when there is high dimensionality of data. It also would be more useful than Euclidean distance when vectors describe objects on a uniform grid or if vectors are on an integer feature space. "
      ],
      "id": "bae57a01"
    },
    {
      "cell_type": "markdown",
      "metadata": {
        "id": "45a99c76"
      },
      "source": [
        "# ***3.Show confusion matrix, accuracy, recall, precision and F1-score. Why is accuracy alone is not sufficient to evaluate the model? Why do we need precision/recall/f1-score?***"
      ],
      "id": "45a99c76"
    },
    {
      "cell_type": "markdown",
      "source": [
        "Accuracy is not a very good score to evaluate the model when there is imbalanced data. For example if there are 95 positive labels for every 100 examples and your model has an accuracy of 95% this could be achieved by predicted the most common class value and doesn't say anything about the models predictions. Precision is the number of true postitives / (true positives + false positives) which tells how accurate the prediction is when a positive value is predicted. Recall is the number of true positives / (true postives + false negatives) which explains how often the model predicts the right positive label. Recall and precision have a tradeoff and when one gets better the other gets worse. F1 score is the harmonic mean of recall and precision and evaluates the model overall taking both into consideration."
      ],
      "metadata": {
        "id": "tBXG_PbZrnAC"
      },
      "id": "tBXG_PbZrnAC"
    },
    {
      "cell_type": "markdown",
      "metadata": {
        "id": "d4dde8d3"
      },
      "source": [
        "# ***4. Choose different K values (k=1,3,5,7,11,17,23,28) and experiment. Plot a graph showing F1 score vs k.***"
      ],
      "id": "d4dde8d3"
    },
    {
      "cell_type": "code",
      "source": [
        "all_neighbours = train_model(X_train, y_train, X_test, 5, distance=\"COSINE\",check_hyper_parameters=True)"
      ],
      "metadata": {
        "colab": {
          "base_uri": "https://localhost:8080/",
          "height": 49,
          "referenced_widgets": [
            "fc3979a9c26648d89e68af15ffc67a66",
            "f54e9f0d244241b99032797b95f67712",
            "6c81f8d1ae0945b1a472134b70a68229",
            "c80a7c44474847d2acfdd69a7d338b68",
            "893e3f655ac6428abcaa2f6125402b57",
            "32dcb00fc7024f44a99caff7d6f09dc3",
            "20fad6383d37421fb92ab5b9f7309779",
            "ef0ed232a1414c60bdfcb9aeedb1caac",
            "9c1c5eca7a6d4119a02ccd8dc785c7cd",
            "6f710116ea0c46968d6276ee19e179a9",
            "b3c74d3e9ec0451c9abafc574058c86f"
          ]
        },
        "id": "bPPbgzptO0S7",
        "outputId": "707dac03-7240-498f-fc97-8d5c81267459"
      },
      "id": "bPPbgzptO0S7",
      "execution_count": 91,
      "outputs": [
        {
          "output_type": "display_data",
          "data": {
            "application/vnd.jupyter.widget-view+json": {
              "model_id": "fc3979a9c26648d89e68af15ffc67a66",
              "version_minor": 0,
              "version_major": 2
            },
            "text/plain": [
              "  0%|          | 0/1115 [00:00<?, ?it/s]"
            ]
          },
          "metadata": {}
        }
      ]
    },
    {
      "cell_type": "code",
      "source": [
        "def check_hyperparameters(all_neighbours, x_test, y_test, k_values, distance=\"COSINE\"):\n",
        "\n",
        "  f1_scores = []\n",
        "\n",
        "  for k in k_values:\n",
        "\n",
        "    predicted = []\n",
        "\n",
        "    for t_idx,t in enumerate(x_test):\n",
        "\n",
        "      n = all_neighbours[t_idx][:k]\n",
        "      if n.count(1) >= n.count(0): predicted.append(1)\n",
        "      else: predicted.append(0)\n",
        "    \n",
        "    f1_scores.append(f1_score(y_test, predicted))\n",
        "\n",
        "  # print(f1_scores)\n",
        "  return f1_scores"
      ],
      "metadata": {
        "id": "uC_jfVvZBNmZ"
      },
      "id": "uC_jfVvZBNmZ",
      "execution_count": 101,
      "outputs": []
    },
    {
      "cell_type": "code",
      "source": [
        "f1_scores = check_hyperparameters(all_neighbours, X_test, y_test, [1,3,5,7,11,17,23,28])\n",
        "\n",
        "import matplotlib.pyplot as plt\n",
        "\n",
        "plt.plot([1,3,5,7,11,17,23,28], f1_scores)\n",
        "plt.title('F1 vs k')\n",
        "plt.xlabel('k value')\n",
        "plt.ylabel('F1 Score')\n",
        "plt.show()"
      ],
      "metadata": {
        "colab": {
          "base_uri": "https://localhost:8080/",
          "height": 295
        },
        "id": "at3ES3duE0gZ",
        "outputId": "d3533c1f-eb23-468f-bb9b-794ec54f0280"
      },
      "id": "at3ES3duE0gZ",
      "execution_count": 102,
      "outputs": [
        {
          "output_type": "display_data",
          "data": {
            "image/png": "[encoded data removed]",
            "text/plain": [
              "<Figure size 432x288 with 1 Axes>"
            ]
          },
          "metadata": {
            "needs_background": "light"
          }
        }
      ]
    },
    {
      "cell_type": "markdown",
      "source": [
        "This plot shows that this model classifies emails as spam/ham best when it takes only the closest neighbour. The similarity between the closest neighbour and the test is the most, and this similarity drops as number of neighbours keep increasing. It then hits a threshold value beyond which a larger number of neighbours helps to improve the score since more examples are accounted for."
      ],
      "metadata": {
        "id": "_JlTukZtevZ_"
      },
      "id": "_JlTukZtevZ_"
    },
    {
      "cell_type": "code",
      "source": [],
      "metadata": {
        "id": "GL0AopoSeuz5"
      },
      "id": "GL0AopoSeuz5",
      "execution_count": null,
      "outputs": []
    },
    {
      "cell_type": "markdown",
      "metadata": {
        "id": "15000352"
      },
      "source": [
        "# ***Train and test Sklearn's KNN classifier model on your data (use metric which gave best results on your experimentation with built-from-scratch model.)***"
      ],
      "id": "15000352"
    },
    {
      "cell_type": "code",
      "execution_count": null,
      "metadata": {
        "id": "48aab7d3"
      },
      "outputs": [],
      "source": [
        "from sklearn.neighbors import KNeighborsClassifier\n",
        "\n",
        "model = KNeighborsClassifier(n_neighbors=5)\n",
        "\n",
        "# Train the model using the training sets\n",
        "model.fit(X_train, y_train)\n",
        "\n",
        "#Predict Output\n",
        "predicted = model.predict(X_val)"
      ],
      "id": "48aab7d3"
    },
    {
      "cell_type": "code",
      "execution_count": null,
      "metadata": {
        "colab": {
          "base_uri": "https://localhost:8080/",
          "height": 611
        },
        "id": "k3JGVNa_nSPF",
        "outputId": "3665eb86-559d-495f-9b65-8dc70e0aba52"
      },
      "outputs": [
        {
          "name": "stdout",
          "output_type": "stream",
          "text": [
            "For k=5 and similarity measure SKLEARN_CLASSIFIER\n",
            "Accuracy score:  0.8869955156950673\n",
            "F1 score:  0.23170731707317074\n",
            "Precision score:  0.1310344827586207\n",
            "Recall score:  1.0\n"
          ]
        },
        {
          "data": {
            "image/png": "[encoded data removed]",
            "text/plain": [
              "<Figure size 648x648 with 2 Axes>"
            ]
          },
          "metadata": {},
          "output_type": "display_data"
        }
      ],
      "source": [
        "evaluate_model(predicted,y_val,5,\"SKLEARN_CLASSIFIER\")"
      ],
      "id": "k3JGVNa_nSPF"
    },
    {
      "cell_type": "markdown",
      "metadata": {
        "id": "7d22aa47"
      },
      "source": [
        "***Compare both the models result.***"
      ],
      "id": "7d22aa47"
    },
    {
      "cell_type": "markdown",
      "source": [
        "My KNN Implementation: <br>\n",
        "Accuracy score:  0.9668161434977578 <br>\n",
        "F1 score:  0.8560311284046692 <br>\n",
        "Precision score:  0.9821428571428571 <br>\n",
        "Recall score:  0.7586206896551724 <br> <br> <br>\n",
        "\n",
        "\n",
        "Sklean KNN Implementation: <br>\n",
        "Accuracy score:  0.8869955156950673 <br>\n",
        "F1 score:  0.23170731707317074 <br>\n",
        "Precision score:  0.1310344827586207 <br>\n",
        "Recall score:  1.0 <br>\n",
        "\n",
        "The sklearn implementation took neglible time to run whereas my implementation took around 20 minutes for cosine similarity distance."
      ],
      "metadata": {
        "id": "vTxOFIAQ5qwO"
      },
      "id": "vTxOFIAQ5qwO"
    },
    {
      "cell_type": "markdown",
      "metadata": {
        "id": "64987575"
      },
      "source": [
        "***What is the time complexity of training using KNN classifier?***"
      ],
      "id": "64987575"
    },
    {
      "cell_type": "markdown",
      "metadata": {
        "id": "2770c106"
      },
      "source": [
        "While training, time complexity is O(1). There is no algorithm run here, the features and target values are set."
      ],
      "id": "2770c106"
    },
    {
      "cell_type": "markdown",
      "metadata": {
        "id": "fad1f345"
      },
      "source": [
        "***What is the time complexity while testing? Is KNN a linear classifier or can it learn any boundary?***"
      ],
      "id": "fad1f345"
    },
    {
      "source": [
        "While testing, time complexity is O(n + nlog(n)) = O(n), n being the number of training examples that each test features is compared with and then the training examples are sorted according to which are closest to the test example.\n",
        "\n",
        "KNN is a non-linear classifier as you do not have a hyperplane (like in SVM) which classifies as positive or negative. A classifier is linear if its decision boundary on the feature space is a linear function. In KNN, the decision boundary is a curve around the training points. It can learn around non-linear boundaries too."
      ],
      "cell_type": "markdown",
      "metadata": {}
    },
    {
      "cell_type": "raw",
      "metadata": {
        "id": "0daaa324"
      },
      "source": [
        "While testing, time complexity is O(n + nlog(n)) = O(n), n being the number of training examples that each test features is compared with and then the training examples are sorted according to which are closest to the test example.\n",
        "\n",
        "KNN is a non-linear classifier as you do not have a hyperplane (like in SVM) which classifies as positive or negative. A classifier is linear if its decision boundary on the feature space is a linear function. In KNN, the decision boundary is a curve around the training points. It can learn around non-linear boundaries too."
      ],
      "id": "0daaa324"
    }
  ],
  "metadata": {
    "colab": {
      "collapsed_sections": [],
      "name": "2019101112_Assignment1_Question3.ipynb",
      "provenance": []
    },
    "kernelspec": {
      "display_name": "Python 3",
      "language": "python",
      "name": "python3"
    },
    "language_info": {
      "codemirror_mode": {
        "name": "ipython",
        "version": 3
      },
      "file_extension": ".py",
      "mimetype": "text/x-python",
      "name": "python",
      "nbconvert_exporter": "python",
      "pygments_lexer": "ipython3",
      "version": "3.8.1-final"
    },
    "widgets": {
      "application/vnd.jupyter.widget-state+json": {
        "0da0ac291a554cf8bcb4af8269c1d74a": {
          "model_module": "@jupyter-widgets/base",
          "model_module_version": "1.2.0",
          "model_name": "LayoutModel",
          "state": {
            "_model_module": "@jupyter-widgets/base",
            "_model_module_version": "1.2.0",
            "_model_name": "LayoutModel",
            "_view_count": null,
            "_view_module": "@jupyter-widgets/base",
            "_view_module_version": "1.2.0",
            "_view_name": "LayoutView",
            "align_content": null,
            "align_items": null,
            "align_self": null,
            "border": null,
            "bottom": null,
            "display": null,
            "flex": null,
            "flex_flow": null,
            "grid_area": null,
            "grid_auto_columns": null,
            "grid_auto_flow": null,
            "grid_auto_rows": null,
            "grid_column": null,
            "grid_gap": null,
            "grid_row": null,
            "grid_template_areas": null,
            "grid_template_columns": null,
            "grid_template_rows": null,
            "height": null,
            "justify_content": null,
            "justify_items": null,
            "left": null,
            "margin": null,
            "max_height": null,
            "max_width": null,
            "min_height": null,
            "min_width": null,
            "object_fit": null,
            "object_position": null,
            "order": null,
            "overflow": null,
            "overflow_x": null,
            "overflow_y": null,
            "padding": null,
            "right": null,
            "top": null,
            "visibility": null,
            "width": null
          }
        },
        "10ed0cb572734b9c8c56f80831e244ba": {
          "model_module": "@jupyter-widgets/controls",
          "model_module_version": "1.5.0",
          "model_name": "HBoxModel",
          "state": {
            "_dom_classes": [],
            "_model_module": "@jupyter-widgets/controls",
            "_model_module_version": "1.5.0",
            "_model_name": "HBoxModel",
            "_view_count": null,
            "_view_module": "@jupyter-widgets/controls",
            "_view_module_version": "1.5.0",
            "_view_name": "HBoxView",
            "box_style": "",
            "children": [
              "IPY_MODEL_d225b2ee97c6486c80b3ff899037cc8f",
              "IPY_MODEL_b8d6a5d1a0ce4e278458db355ff2fc48",
              "IPY_MODEL_52ce87ab94ca4de9973e4b61b9f9c1d3"
            ],
            "layout": "IPY_MODEL_6483c873a9aa40c9a35e52cb4e45bb02"
          }
        },
        "1bfb3d816053449d9e5ce31274e2c4a5": {
          "model_module": "@jupyter-widgets/base",
          "model_module_version": "1.2.0",
          "model_name": "LayoutModel",
          "state": {
            "_model_module": "@jupyter-widgets/base",
            "_model_module_version": "1.2.0",
            "_model_name": "LayoutModel",
            "_view_count": null,
            "_view_module": "@jupyter-widgets/base",
            "_view_module_version": "1.2.0",
            "_view_name": "LayoutView",
            "align_content": null,
            "align_items": null,
            "align_self": null,
            "border": null,
            "bottom": null,
            "display": null,
            "flex": null,
            "flex_flow": null,
            "grid_area": null,
            "grid_auto_columns": null,
            "grid_auto_flow": null,
            "grid_auto_rows": null,
            "grid_column": null,
            "grid_gap": null,
            "grid_row": null,
            "grid_template_areas": null,
            "grid_template_columns": null,
            "grid_template_rows": null,
            "height": null,
            "justify_content": null,
            "justify_items": null,
            "left": null,
            "margin": null,
            "max_height": null,
            "max_width": null,
            "min_height": null,
            "min_width": null,
            "object_fit": null,
            "object_position": null,
            "order": null,
            "overflow": null,
            "overflow_x": null,
            "overflow_y": null,
            "padding": null,
            "right": null,
            "top": null,
            "visibility": null,
            "width": null
          }
        },
        "36bad8ab1314499ba5727b765958d5b6": {
          "model_module": "@jupyter-widgets/base",
          "model_module_version": "1.2.0",
          "model_name": "LayoutModel",
          "state": {
            "_model_module": "@jupyter-widgets/base",
            "_model_module_version": "1.2.0",
            "_model_name": "LayoutModel",
            "_view_count": null,
            "_view_module": "@jupyter-widgets/base",
            "_view_module_version": "1.2.0",
            "_view_name": "LayoutView",
            "align_content": null,
            "align_items": null,
            "align_self": null,
            "border": null,
            "bottom": null,
            "display": null,
            "flex": null,
            "flex_flow": null,
            "grid_area": null,
            "grid_auto_columns": null,
            "grid_auto_flow": null,
            "grid_auto_rows": null,
            "grid_column": null,
            "grid_gap": null,
            "grid_row": null,
            "grid_template_areas": null,
            "grid_template_columns": null,
            "grid_template_rows": null,
            "height": null,
            "justify_content": null,
            "justify_items": null,
            "left": null,
            "margin": null,
            "max_height": null,
            "max_width": null,
            "min_height": null,
            "min_width": null,
            "object_fit": null,
            "object_position": null,
            "order": null,
            "overflow": null,
            "overflow_x": null,
            "overflow_y": null,
            "padding": null,
            "right": null,
            "top": null,
            "visibility": null,
            "width": null
          }
        },
        "516a5176ae34416d8463fba0a71c51d7": {
          "model_module": "@jupyter-widgets/base",
          "model_module_version": "1.2.0",
          "model_name": "LayoutModel",
          "state": {
            "_model_module": "@jupyter-widgets/base",
            "_model_module_version": "1.2.0",
            "_model_name": "LayoutModel",
            "_view_count": null,
            "_view_module": "@jupyter-widgets/base",
            "_view_module_version": "1.2.0",
            "_view_name": "LayoutView",
            "align_content": null,
            "align_items": null,
            "align_self": null,
            "border": null,
            "bottom": null,
            "display": null,
            "flex": null,
            "flex_flow": null,
            "grid_area": null,
            "grid_auto_columns": null,
            "grid_auto_flow": null,
            "grid_auto_rows": null,
            "grid_column": null,
            "grid_gap": null,
            "grid_row": null,
            "grid_template_areas": null,
            "grid_template_columns": null,
            "grid_template_rows": null,
            "height": null,
            "justify_content": null,
            "justify_items": null,
            "left": null,
            "margin": null,
            "max_height": null,
            "max_width": null,
            "min_height": null,
            "min_width": null,
            "object_fit": null,
            "object_position": null,
            "order": null,
            "overflow": null,
            "overflow_x": null,
            "overflow_y": null,
            "padding": null,
            "right": null,
            "top": null,
            "visibility": null,
            "width": null
          }
        },
        "51be29d342934c0faad855d36783e16f": {
          "model_module": "@jupyter-widgets/controls",
          "model_module_version": "1.5.0",
          "model_name": "DescriptionStyleModel",
          "state": {
            "_model_module": "@jupyter-widgets/controls",
            "_model_module_version": "1.5.0",
            "_model_name": "DescriptionStyleModel",
            "_view_count": null,
            "_view_module": "@jupyter-widgets/base",
            "_view_module_version": "1.2.0",
            "_view_name": "StyleView",
            "description_width": ""
          }
        },
        "52ce87ab94ca4de9973e4b61b9f9c1d3": {
          "model_module": "@jupyter-widgets/controls",
          "model_module_version": "1.5.0",
          "model_name": "HTMLModel",
          "state": {
            "_dom_classes": [],
            "_model_module": "@jupyter-widgets/controls",
            "_model_module_version": "1.5.0",
            "_model_name": "HTMLModel",
            "_view_count": null,
            "_view_module": "@jupyter-widgets/controls",
            "_view_module_version": "1.5.0",
            "_view_name": "HTMLView",
            "description": "",
            "description_tooltip": null,
            "layout": "IPY_MODEL_1bfb3d816053449d9e5ce31274e2c4a5",
            "placeholder": "​",
            "style": "IPY_MODEL_51be29d342934c0faad855d36783e16f",
            "value": " 1115/1115 [10:45&lt;00:00,  1.54it/s]"
          }
        },
        "59c361fc37d243a6b3045741233f1071": {
          "model_module": "@jupyter-widgets/controls",
          "model_module_version": "1.5.0",
          "model_name": "HTMLModel",
          "state": {
            "_dom_classes": [],
            "_model_module": "@jupyter-widgets/controls",
            "_model_module_version": "1.5.0",
            "_model_name": "HTMLModel",
            "_view_count": null,
            "_view_module": "@jupyter-widgets/controls",
            "_view_module_version": "1.5.0",
            "_view_name": "HTMLView",
            "description": "",
            "description_tooltip": null,
            "layout": "IPY_MODEL_516a5176ae34416d8463fba0a71c51d7",
            "placeholder": "​",
            "style": "IPY_MODEL_d9a4de55087345f09af64caf5f1b31c1",
            "value": " 1115/1115 [13:02&lt;00:00,  1.50it/s]"
          }
        },
        "6483c873a9aa40c9a35e52cb4e45bb02": {
          "model_module": "@jupyter-widgets/base",
          "model_module_version": "1.2.0",
          "model_name": "LayoutModel",
          "state": {
            "_model_module": "@jupyter-widgets/base",
            "_model_module_version": "1.2.0",
            "_model_name": "LayoutModel",
            "_view_count": null,
            "_view_module": "@jupyter-widgets/base",
            "_view_module_version": "1.2.0",
            "_view_name": "LayoutView",
            "align_content": null,
            "align_items": null,
            "align_self": null,
            "border": null,
            "bottom": null,
            "display": null,
            "flex": null,
            "flex_flow": null,
            "grid_area": null,
            "grid_auto_columns": null,
            "grid_auto_flow": null,
            "grid_auto_rows": null,
            "grid_column": null,
            "grid_gap": null,
            "grid_row": null,
            "grid_template_areas": null,
            "grid_template_columns": null,
            "grid_template_rows": null,
            "height": null,
            "justify_content": null,
            "justify_items": null,
            "left": null,
            "margin": null,
            "max_height": null,
            "max_width": null,
            "min_height": null,
            "min_width": null,
            "object_fit": null,
            "object_position": null,
            "order": null,
            "overflow": null,
            "overflow_x": null,
            "overflow_y": null,
            "padding": null,
            "right": null,
            "top": null,
            "visibility": null,
            "width": null
          }
        },
        "697b68d16c1345539c8c845231c80d56": {
          "model_module": "@jupyter-widgets/base",
          "model_module_version": "1.2.0",
          "model_name": "LayoutModel",
          "state": {
            "_model_module": "@jupyter-widgets/base",
            "_model_module_version": "1.2.0",
            "_model_name": "LayoutModel",
            "_view_count": null,
            "_view_module": "@jupyter-widgets/base",
            "_view_module_version": "1.2.0",
            "_view_name": "LayoutView",
            "align_content": null,
            "align_items": null,
            "align_self": null,
            "border": null,
            "bottom": null,
            "display": null,
            "flex": null,
            "flex_flow": null,
            "grid_area": null,
            "grid_auto_columns": null,
            "grid_auto_flow": null,
            "grid_auto_rows": null,
            "grid_column": null,
            "grid_gap": null,
            "grid_row": null,
            "grid_template_areas": null,
            "grid_template_columns": null,
            "grid_template_rows": null,
            "height": null,
            "justify_content": null,
            "justify_items": null,
            "left": null,
            "margin": null,
            "max_height": null,
            "max_width": null,
            "min_height": null,
            "min_width": null,
            "object_fit": null,
            "object_position": null,
            "order": null,
            "overflow": null,
            "overflow_x": null,
            "overflow_y": null,
            "padding": null,
            "right": null,
            "top": null,
            "visibility": null,
            "width": null
          }
        },
        "6e9ddf5c230e440ab7da88c8c2649e95": {
          "model_module": "@jupyter-widgets/controls",
          "model_module_version": "1.5.0",
          "model_name": "HBoxModel",
          "state": {
            "_dom_classes": [],
            "_model_module": "@jupyter-widgets/controls",
            "_model_module_version": "1.5.0",
            "_model_name": "HBoxModel",
            "_view_count": null,
            "_view_module": "@jupyter-widgets/controls",
            "_view_module_version": "1.5.0",
            "_view_name": "HBoxView",
            "box_style": "",
            "children": [
              "IPY_MODEL_c651609d1e334facbae2d070616a4d0d",
              "IPY_MODEL_d005f8c09dd948d38174fbc014da0285",
              "IPY_MODEL_59c361fc37d243a6b3045741233f1071"
            ],
            "layout": "IPY_MODEL_0da0ac291a554cf8bcb4af8269c1d74a"
          }
        },
        "7dbebd387dc6432ea4c5e352b0c645b2": {
          "model_module": "@jupyter-widgets/controls",
          "model_module_version": "1.5.0",
          "model_name": "DescriptionStyleModel",
          "state": {
            "_model_module": "@jupyter-widgets/controls",
            "_model_module_version": "1.5.0",
            "_model_name": "DescriptionStyleModel",
            "_view_count": null,
            "_view_module": "@jupyter-widgets/base",
            "_view_module_version": "1.2.0",
            "_view_name": "StyleView",
            "description_width": ""
          }
        },
        "8f2f39b7506645d8b0318b7ba31677f4": {
          "model_module": "@jupyter-widgets/base",
          "model_module_version": "1.2.0",
          "model_name": "LayoutModel",
          "state": {
            "_model_module": "@jupyter-widgets/base",
            "_model_module_version": "1.2.0",
            "_model_name": "LayoutModel",
            "_view_count": null,
            "_view_module": "@jupyter-widgets/base",
            "_view_module_version": "1.2.0",
            "_view_name": "LayoutView",
            "align_content": null,
            "align_items": null,
            "align_self": null,
            "border": null,
            "bottom": null,
            "display": null,
            "flex": null,
            "flex_flow": null,
            "grid_area": null,
            "grid_auto_columns": null,
            "grid_auto_flow": null,
            "grid_auto_rows": null,
            "grid_column": null,
            "grid_gap": null,
            "grid_row": null,
            "grid_template_areas": null,
            "grid_template_columns": null,
            "grid_template_rows": null,
            "height": null,
            "justify_content": null,
            "justify_items": null,
            "left": null,
            "margin": null,
            "max_height": null,
            "max_width": null,
            "min_height": null,
            "min_width": null,
            "object_fit": null,
            "object_position": null,
            "order": null,
            "overflow": null,
            "overflow_x": null,
            "overflow_y": null,
            "padding": null,
            "right": null,
            "top": null,
            "visibility": null,
            "width": null
          }
        },
        "afed217cd95c4d9ea24078d3576accd5": {
          "model_module": "@jupyter-widgets/controls",
          "model_module_version": "1.5.0",
          "model_name": "ProgressStyleModel",
          "state": {
            "_model_module": "@jupyter-widgets/controls",
            "_model_module_version": "1.5.0",
            "_model_name": "ProgressStyleModel",
            "_view_count": null,
            "_view_module": "@jupyter-widgets/base",
            "_view_module_version": "1.2.0",
            "_view_name": "StyleView",
            "bar_color": null,
            "description_width": ""
          }
        },
        "b8d6a5d1a0ce4e278458db355ff2fc48": {
          "model_module": "@jupyter-widgets/controls",
          "model_module_version": "1.5.0",
          "model_name": "FloatProgressModel",
          "state": {
            "_dom_classes": [],
            "_model_module": "@jupyter-widgets/controls",
            "_model_module_version": "1.5.0",
            "_model_name": "FloatProgressModel",
            "_view_count": null,
            "_view_module": "@jupyter-widgets/controls",
            "_view_module_version": "1.5.0",
            "_view_name": "ProgressView",
            "bar_style": "success",
            "description": "",
            "description_tooltip": null,
            "layout": "IPY_MODEL_36bad8ab1314499ba5727b765958d5b6",
            "max": 1115,
            "min": 0,
            "orientation": "horizontal",
            "style": "IPY_MODEL_cd7b1817a17749be8f31419f9bbab991",
            "value": 1115
          }
        },
        "c651609d1e334facbae2d070616a4d0d": {
          "model_module": "@jupyter-widgets/controls",
          "model_module_version": "1.5.0",
          "model_name": "HTMLModel",
          "state": {
            "_dom_classes": [],
            "_model_module": "@jupyter-widgets/controls",
            "_model_module_version": "1.5.0",
            "_model_name": "HTMLModel",
            "_view_count": null,
            "_view_module": "@jupyter-widgets/controls",
            "_view_module_version": "1.5.0",
            "_view_name": "HTMLView",
            "description": "",
            "description_tooltip": null,
            "layout": "IPY_MODEL_697b68d16c1345539c8c845231c80d56",
            "placeholder": "​",
            "style": "IPY_MODEL_7dbebd387dc6432ea4c5e352b0c645b2",
            "value": "100%"
          }
        },
        "cd7b1817a17749be8f31419f9bbab991": {
          "model_module": "@jupyter-widgets/controls",
          "model_module_version": "1.5.0",
          "model_name": "ProgressStyleModel",
          "state": {
            "_model_module": "@jupyter-widgets/controls",
            "_model_module_version": "1.5.0",
            "_model_name": "ProgressStyleModel",
            "_view_count": null,
            "_view_module": "@jupyter-widgets/base",
            "_view_module_version": "1.2.0",
            "_view_name": "StyleView",
            "bar_color": null,
            "description_width": ""
          }
        },
        "d005f8c09dd948d38174fbc014da0285": {
          "model_module": "@jupyter-widgets/controls",
          "model_module_version": "1.5.0",
          "model_name": "FloatProgressModel",
          "state": {
            "_dom_classes": [],
            "_model_module": "@jupyter-widgets/controls",
            "_model_module_version": "1.5.0",
            "_model_name": "FloatProgressModel",
            "_view_count": null,
            "_view_module": "@jupyter-widgets/controls",
            "_view_module_version": "1.5.0",
            "_view_name": "ProgressView",
            "bar_style": "success",
            "description": "",
            "description_tooltip": null,
            "layout": "IPY_MODEL_d53eafba0a6c47a18160c8b3c02b32f7",
            "max": 1115,
            "min": 0,
            "orientation": "horizontal",
            "style": "IPY_MODEL_afed217cd95c4d9ea24078d3576accd5",
            "value": 1115
          }
        },
        "d1f81afd023649dc9d58e0da31bbb135": {
          "model_module": "@jupyter-widgets/controls",
          "model_module_version": "1.5.0",
          "model_name": "DescriptionStyleModel",
          "state": {
            "_model_module": "@jupyter-widgets/controls",
            "_model_module_version": "1.5.0",
            "_model_name": "DescriptionStyleModel",
            "_view_count": null,
            "_view_module": "@jupyter-widgets/base",
            "_view_module_version": "1.2.0",
            "_view_name": "StyleView",
            "description_width": ""
          }
        },
        "d225b2ee97c6486c80b3ff899037cc8f": {
          "model_module": "@jupyter-widgets/controls",
          "model_module_version": "1.5.0",
          "model_name": "HTMLModel",
          "state": {
            "_dom_classes": [],
            "_model_module": "@jupyter-widgets/controls",
            "_model_module_version": "1.5.0",
            "_model_name": "HTMLModel",
            "_view_count": null,
            "_view_module": "@jupyter-widgets/controls",
            "_view_module_version": "1.5.0",
            "_view_name": "HTMLView",
            "description": "",
            "description_tooltip": null,
            "layout": "IPY_MODEL_8f2f39b7506645d8b0318b7ba31677f4",
            "placeholder": "​",
            "style": "IPY_MODEL_d1f81afd023649dc9d58e0da31bbb135",
            "value": "100%"
          }
        },
        "d53eafba0a6c47a18160c8b3c02b32f7": {
          "model_module": "@jupyter-widgets/base",
          "model_module_version": "1.2.0",
          "model_name": "LayoutModel",
          "state": {
            "_model_module": "@jupyter-widgets/base",
            "_model_module_version": "1.2.0",
            "_model_name": "LayoutModel",
            "_view_count": null,
            "_view_module": "@jupyter-widgets/base",
            "_view_module_version": "1.2.0",
            "_view_name": "LayoutView",
            "align_content": null,
            "align_items": null,
            "align_self": null,
            "border": null,
            "bottom": null,
            "display": null,
            "flex": null,
            "flex_flow": null,
            "grid_area": null,
            "grid_auto_columns": null,
            "grid_auto_flow": null,
            "grid_auto_rows": null,
            "grid_column": null,
            "grid_gap": null,
            "grid_row": null,
            "grid_template_areas": null,
            "grid_template_columns": null,
            "grid_template_rows": null,
            "height": null,
            "justify_content": null,
            "justify_items": null,
            "left": null,
            "margin": null,
            "max_height": null,
            "max_width": null,
            "min_height": null,
            "min_width": null,
            "object_fit": null,
            "object_position": null,
            "order": null,
            "overflow": null,
            "overflow_x": null,
            "overflow_y": null,
            "padding": null,
            "right": null,
            "top": null,
            "visibility": null,
            "width": null
          }
        },
        "d9a4de55087345f09af64caf5f1b31c1": {
          "model_module": "@jupyter-widgets/controls",
          "model_module_version": "1.5.0",
          "model_name": "DescriptionStyleModel",
          "state": {
            "_model_module": "@jupyter-widgets/controls",
            "_model_module_version": "1.5.0",
            "_model_name": "DescriptionStyleModel",
            "_view_count": null,
            "_view_module": "@jupyter-widgets/base",
            "_view_module_version": "1.2.0",
            "_view_name": "StyleView",
            "description_width": ""
          }
        },
        "fc3979a9c26648d89e68af15ffc67a66": {
          "model_module": "@jupyter-widgets/controls",
          "model_name": "HBoxModel",
          "model_module_version": "1.5.0",
          "state": {
            "_view_name": "HBoxView",
            "_dom_classes": [],
            "_model_name": "HBoxModel",
            "_view_module": "@jupyter-widgets/controls",
            "_model_module_version": "1.5.0",
            "_view_count": null,
            "_view_module_version": "1.5.0",
            "box_style": "",
            "layout": "IPY_MODEL_f54e9f0d244241b99032797b95f67712",
            "_model_module": "@jupyter-widgets/controls",
            "children": [
              "IPY_MODEL_6c81f8d1ae0945b1a472134b70a68229",
              "IPY_MODEL_c80a7c44474847d2acfdd69a7d338b68",
              "IPY_MODEL_893e3f655ac6428abcaa2f6125402b57"
            ]
          }
        },
        "f54e9f0d244241b99032797b95f67712": {
          "model_module": "@jupyter-widgets/base",
          "model_name": "LayoutModel",
          "model_module_version": "1.2.0",
          "state": {
            "_view_name": "LayoutView",
            "grid_template_rows": null,
            "right": null,
            "justify_content": null,
            "_view_module": "@jupyter-widgets/base",
            "overflow": null,
            "_model_module_version": "1.2.0",
            "_view_count": null,
            "flex_flow": null,
            "width": null,
            "min_width": null,
            "border": null,
            "align_items": null,
            "bottom": null,
            "_model_module": "@jupyter-widgets/base",
            "top": null,
            "grid_column": null,
            "overflow_y": null,
            "overflow_x": null,
            "grid_auto_flow": null,
            "grid_area": null,
            "grid_template_columns": null,
            "flex": null,
            "_model_name": "LayoutModel",
            "justify_items": null,
            "grid_row": null,
            "max_height": null,
            "align_content": null,
            "visibility": null,
            "align_self": null,
            "height": null,
            "min_height": null,
            "padding": null,
            "grid_auto_rows": null,
            "grid_gap": null,
            "max_width": null,
            "order": null,
            "_view_module_version": "1.2.0",
            "grid_template_areas": null,
            "object_position": null,
            "object_fit": null,
            "grid_auto_columns": null,
            "margin": null,
            "display": null,
            "left": null
          }
        },
        "6c81f8d1ae0945b1a472134b70a68229": {
          "model_module": "@jupyter-widgets/controls",
          "model_name": "HTMLModel",
          "model_module_version": "1.5.0",
          "state": {
            "_view_name": "HTMLView",
            "style": "IPY_MODEL_32dcb00fc7024f44a99caff7d6f09dc3",
            "_dom_classes": [],
            "description": "",
            "_model_name": "HTMLModel",
            "placeholder": "​",
            "_view_module": "@jupyter-widgets/controls",
            "_model_module_version": "1.5.0",
            "value": "100%",
            "_view_count": null,
            "_view_module_version": "1.5.0",
            "description_tooltip": null,
            "_model_module": "@jupyter-widgets/controls",
            "layout": "IPY_MODEL_20fad6383d37421fb92ab5b9f7309779"
          }
        },
        "c80a7c44474847d2acfdd69a7d338b68": {
          "model_module": "@jupyter-widgets/controls",
          "model_name": "FloatProgressModel",
          "model_module_version": "1.5.0",
          "state": {
            "_view_name": "ProgressView",
            "style": "IPY_MODEL_ef0ed232a1414c60bdfcb9aeedb1caac",
            "_dom_classes": [],
            "description": "",
            "_model_name": "FloatProgressModel",
            "bar_style": "success",
            "max": 1115,
            "_view_module": "@jupyter-widgets/controls",
            "_model_module_version": "1.5.0",
            "value": 1115,
            "_view_count": null,
            "_view_module_version": "1.5.0",
            "orientation": "horizontal",
            "min": 0,
            "description_tooltip": null,
            "_model_module": "@jupyter-widgets/controls",
            "layout": "IPY_MODEL_9c1c5eca7a6d4119a02ccd8dc785c7cd"
          }
        },
        "893e3f655ac6428abcaa2f6125402b57": {
          "model_module": "@jupyter-widgets/controls",
          "model_name": "HTMLModel",
          "model_module_version": "1.5.0",
          "state": {
            "_view_name": "HTMLView",
            "style": "IPY_MODEL_6f710116ea0c46968d6276ee19e179a9",
            "_dom_classes": [],
            "description": "",
            "_model_name": "HTMLModel",
            "placeholder": "​",
            "_view_module": "@jupyter-widgets/controls",
            "_model_module_version": "1.5.0",
            "value": " 1115/1115 [24:26&lt;00:00,  1.30s/it]",
            "_view_count": null,
            "_view_module_version": "1.5.0",
            "description_tooltip": null,
            "_model_module": "@jupyter-widgets/controls",
            "layout": "IPY_MODEL_b3c74d3e9ec0451c9abafc574058c86f"
          }
        },
        "32dcb00fc7024f44a99caff7d6f09dc3": {
          "model_module": "@jupyter-widgets/controls",
          "model_name": "DescriptionStyleModel",
          "model_module_version": "1.5.0",
          "state": {
            "_view_name": "StyleView",
            "_model_name": "DescriptionStyleModel",
            "description_width": "",
            "_view_module": "@jupyter-widgets/base",
            "_model_module_version": "1.5.0",
            "_view_count": null,
            "_view_module_version": "1.2.0",
            "_model_module": "@jupyter-widgets/controls"
          }
        },
        "20fad6383d37421fb92ab5b9f7309779": {
          "model_module": "@jupyter-widgets/base",
          "model_name": "LayoutModel",
          "model_module_version": "1.2.0",
          "state": {
            "_view_name": "LayoutView",
            "grid_template_rows": null,
            "right": null,
            "justify_content": null,
            "_view_module": "@jupyter-widgets/base",
            "overflow": null,
            "_model_module_version": "1.2.0",
            "_view_count": null,
            "flex_flow": null,
            "width": null,
            "min_width": null,
            "border": null,
            "align_items": null,
            "bottom": null,
            "_model_module": "@jupyter-widgets/base",
            "top": null,
            "grid_column": null,
            "overflow_y": null,
            "overflow_x": null,
            "grid_auto_flow": null,
            "grid_area": null,
            "grid_template_columns": null,
            "flex": null,
            "_model_name": "LayoutModel",
            "justify_items": null,
            "grid_row": null,
            "max_height": null,
            "align_content": null,
            "visibility": null,
            "align_self": null,
            "height": null,
            "min_height": null,
            "padding": null,
            "grid_auto_rows": null,
            "grid_gap": null,
            "max_width": null,
            "order": null,
            "_view_module_version": "1.2.0",
            "grid_template_areas": null,
            "object_position": null,
            "object_fit": null,
            "grid_auto_columns": null,
            "margin": null,
            "display": null,
            "left": null
          }
        },
        "ef0ed232a1414c60bdfcb9aeedb1caac": {
          "model_module": "@jupyter-widgets/controls",
          "model_name": "ProgressStyleModel",
          "model_module_version": "1.5.0",
          "state": {
            "_view_name": "StyleView",
            "_model_name": "ProgressStyleModel",
            "description_width": "",
            "_view_module": "@jupyter-widgets/base",
            "_model_module_version": "1.5.0",
            "_view_count": null,
            "_view_module_version": "1.2.0",
            "bar_color": null,
            "_model_module": "@jupyter-widgets/controls"
          }
        },
        "9c1c5eca7a6d4119a02ccd8dc785c7cd": {
          "model_module": "@jupyter-widgets/base",
          "model_name": "LayoutModel",
          "model_module_version": "1.2.0",
          "state": {
            "_view_name": "LayoutView",
            "grid_template_rows": null,
            "right": null,
            "justify_content": null,
            "_view_module": "@jupyter-widgets/base",
            "overflow": null,
            "_model_module_version": "1.2.0",
            "_view_count": null,
            "flex_flow": null,
            "width": null,
            "min_width": null,
            "border": null,
            "align_items": null,
            "bottom": null,
            "_model_module": "@jupyter-widgets/base",
            "top": null,
            "grid_column": null,
            "overflow_y": null,
            "overflow_x": null,
            "grid_auto_flow": null,
            "grid_area": null,
            "grid_template_columns": null,
            "flex": null,
            "_model_name": "LayoutModel",
            "justify_items": null,
            "grid_row": null,
            "max_height": null,
            "align_content": null,
            "visibility": null,
            "align_self": null,
            "height": null,
            "min_height": null,
            "padding": null,
            "grid_auto_rows": null,
            "grid_gap": null,
            "max_width": null,
            "order": null,
            "_view_module_version": "1.2.0",
            "grid_template_areas": null,
            "object_position": null,
            "object_fit": null,
            "grid_auto_columns": null,
            "margin": null,
            "display": null,
            "left": null
          }
        },
        "6f710116ea0c46968d6276ee19e179a9": {
          "model_module": "@jupyter-widgets/controls",
          "model_name": "DescriptionStyleModel",
          "model_module_version": "1.5.0",
          "state": {
            "_view_name": "StyleView",
            "_model_name": "DescriptionStyleModel",
            "description_width": "",
            "_view_module": "@jupyter-widgets/base",
            "_model_module_version": "1.5.0",
            "_view_count": null,
            "_view_module_version": "1.2.0",
            "_model_module": "@jupyter-widgets/controls"
          }
        },
        "b3c74d3e9ec0451c9abafc574058c86f": {
          "model_module": "@jupyter-widgets/base",
          "model_name": "LayoutModel",
          "model_module_version": "1.2.0",
          "state": {
            "_view_name": "LayoutView",
            "grid_template_rows": null,
            "right": null,
            "justify_content": null,
            "_view_module": "@jupyter-widgets/base",
            "overflow": null,
            "_model_module_version": "1.2.0",
            "_view_count": null,
            "flex_flow": null,
            "width": null,
            "min_width": null,
            "border": null,
            "align_items": null,
            "bottom": null,
            "_model_module": "@jupyter-widgets/base",
            "top": null,
            "grid_column": null,
            "overflow_y": null,
            "overflow_x": null,
            "grid_auto_flow": null,
            "grid_area": null,
            "grid_template_columns": null,
            "flex": null,
            "_model_name": "LayoutModel",
            "justify_items": null,
            "grid_row": null,
            "max_height": null,
            "align_content": null,
            "visibility": null,
            "align_self": null,
            "height": null,
            "min_height": null,
            "padding": null,
            "grid_auto_rows": null,
            "grid_gap": null,
            "max_width": null,
            "order": null,
            "_view_module_version": "1.2.0",
            "grid_template_areas": null,
            "object_position": null,
            "object_fit": null,
            "grid_auto_columns": null,
            "margin": null,
            "display": null,
            "left": null
          }
        }
      }
    }
  },
  "nbformat": 4,
  "nbformat_minor": 5
}